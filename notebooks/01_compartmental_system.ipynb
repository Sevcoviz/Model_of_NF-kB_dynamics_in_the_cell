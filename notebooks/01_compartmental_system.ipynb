{
 "cells": [
  {
   "cell_type": "markdown",
   "id": "8fb127c2",
   "metadata": {},
   "source": [
    "# Compartmental system"
   ]
  },
  {
   "cell_type": "code",
   "execution_count": null,
   "id": "fdaaa5ad",
   "metadata": {},
   "outputs": [],
   "source": [
    "from simulacia import SimulateCompartmentalSystem\n",
    "from vizualizacia import plot_compartmental_dynamics"
   ]
  },
  {
   "cell_type": "code",
   "execution_count": null,
   "id": "499c55b6",
   "metadata": {},
   "outputs": [],
   "source": [
    "simulator = SimulateCompartmentalSystem(t_max=10.0) # You can adjust t_max as needed\n",
    "t, K, N_C, N_N, I_C, I_N, NI_C, NI_N, G, R = simulator.run()\n",
    "\n",
    "plot_compartmental_dynamics(t, K, N_C, N_N, I_C, I_N, NI_C, NI_N, R, G)"
   ]
  }
 ],
 "metadata": {
  "language_info": {
   "name": "python"
  }
 },
 "nbformat": 4,
 "nbformat_minor": 5
}
